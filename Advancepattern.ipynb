{
 "cells": [
  {
   "cell_type": "code",
   "execution_count": 16,
   "metadata": {},
   "outputs": [
    {
     "name": "stdout",
     "output_type": "stream",
     "text": [
      "* * * * * \n",
      "*       * \n",
      "*       * \n",
      "*       * \n",
      "* * * * * \n"
     ]
    }
   ],
   "source": [
    "# Hollow Square\n",
    "n = 5\n",
    "for i in range (n):\n",
    "    for j in range (n):\n",
    "        if i==0 or i==n-1 or j==0 or j==n-1:\n",
    "            print (\"*\", end = \" \")\n",
    "        else:\n",
    "            print(\" \", end = \" \")\n",
    "    print()\n",
    "        \n"
   ]
  },
  {
   "cell_type": "code",
   "execution_count": null,
   "metadata": {},
   "outputs": [
    {
     "name": "stdout",
     "output_type": "stream",
     "text": [
      "* * * * * \n",
      "* $ $ $ * \n",
      "* $ $ $ * \n",
      "* $ $ $ * \n",
      "* * * * * \n"
     ]
    }
   ],
   "source": [
    "# dollar sqare having star border \n",
    "n = 5\n",
    "for i in range (n):\n",
    "    for j in range (n):\n",
    "        if i==0 or i==n-1 or j==0 or j==n-1:\n",
    "            print (\"*\", end = \" \")\n",
    "        else:\n",
    "            print(\"$\", end = \" \")\n",
    "    print()"
   ]
  },
  {
   "cell_type": "code",
   "execution_count": null,
   "metadata": {},
   "outputs": [
    {
     "name": "stdout",
     "output_type": "stream",
     "text": [
      "*****\n",
      "*   *\n",
      "*   *\n",
      "*   *\n",
      "*****\n"
     ]
    }
   ],
   "source": [
    "rows = 5\n",
    "cols = 5\n",
    "\n",
    "for i in range(0, rows):\n",
    "    for j in range(0, cols):\n",
    "        if i==0 or j==0 or i == rows-1 or j == cols-1:\n",
    "            print(\"*\", end=\"\")\n",
    "        else:\n",
    "            print(\" \", end=\"\")\n",
    "    print()"
   ]
  },
  {
   "cell_type": "code",
   "execution_count": 31,
   "metadata": {},
   "outputs": [
    {
     "name": "stdout",
     "output_type": "stream",
     "text": [
      "*****\n",
      "*&&&*\n",
      "*&&&*\n",
      "*&&&*\n",
      "*****\n"
     ]
    }
   ],
   "source": [
    "n = 5\n",
    "m = 5\n",
    "for i in range (0, n):\n",
    "    for j in range (0, m):\n",
    "        if i==0 or j==0  or i==n-1 or j==m-1:\n",
    "            print (\"*\", end = \"\")\n",
    "        else:\n",
    "            print(\"&\", end = \"\")\n",
    "    print()\n",
    "\n",
    "rows = 5\n",
    "cols = 5\n"
   ]
  },
  {
   "cell_type": "code",
   "execution_count": 36,
   "metadata": {},
   "outputs": [
    {
     "name": "stdout",
     "output_type": "stream",
     "text": [
      "      ******\n",
      "     ******\n",
      "    ******\n",
      "   ******\n",
      "  ******\n",
      " ******\n",
      "******\n"
     ]
    }
   ],
   "source": [
    "# Parallelogram pattern\n",
    "rows = int(input(\"Enter number of rows: \"))  \n",
    "cols = int(input(\"Enter number of columns: \")) \n",
    "\n",
    "for i in range(rows):  \n",
    "    print(\" \" * (rows - i - 1) + \"*\" * cols)  \n"
   ]
  },
  {
   "cell_type": "code",
   "execution_count": 34,
   "metadata": {},
   "outputs": [
    {
     "name": "stdout",
     "output_type": "stream",
     "text": [
      "    ***\n",
      "   ***\n",
      "  ***\n",
      " ***\n",
      "***\n"
     ]
    }
   ],
   "source": [
    "# Rhombus Star Pattern\n",
    "\n",
    "rows = int(input(\"Enter number of rows: \"))  \n",
    "cols = int(input(\"Enter number of columns: \")) \n",
    "\n",
    "for i in range(rows):  \n",
    "    print(\" \" * (rows - i - 1) + \"*\" * cols) \n"
   ]
  },
  {
   "cell_type": "code",
   "execution_count": 40,
   "metadata": {},
   "outputs": [
    {
     "name": "stdout",
     "output_type": "stream",
     "text": [
      "*****\n",
      " *****\n",
      "  *****\n",
      "   *****\n",
      "    *****\n"
     ]
    }
   ],
   "source": [
    "num = int(input(\"Enter the number:\"))\n",
    "\n",
    "for i in range(0, num):\n",
    "    for j in range(1, i+1):\n",
    "        print(\" \", end=\"\")\n",
    "    for j in range(0, num):\n",
    "        print(\"*\", end=\"\")\n",
    "    print()"
   ]
  },
  {
   "cell_type": "code",
   "execution_count": null,
   "metadata": {},
   "outputs": [],
   "source": [
    "num = int(input(\"Write no to check if is prime or not \"))\n",
    "\n",
    "for i in range (2,num):\n",
    "    if i%num ==0:\n",
    "        print(\"Not Prime\")\n",
    "        break\n",
    "\n",
    "    else:\n",
    "        print(\"Prime\")\n",
    "        "
   ]
  }
 ],
 "metadata": {
  "kernelspec": {
   "display_name": "Python 3",
   "language": "python",
   "name": "python3"
  },
  "language_info": {
   "codemirror_mode": {
    "name": "ipython",
    "version": 3
   },
   "file_extension": ".py",
   "mimetype": "text/x-python",
   "name": "python",
   "nbconvert_exporter": "python",
   "pygments_lexer": "ipython3",
   "version": "3.10.11"
  }
 },
 "nbformat": 4,
 "nbformat_minor": 2
}
